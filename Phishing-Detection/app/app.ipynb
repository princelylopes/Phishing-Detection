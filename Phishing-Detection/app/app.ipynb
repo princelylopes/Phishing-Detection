{
 "cells": [
  {
   "cell_type": "code",
   "execution_count": null,
   "id": "f162a220",
   "metadata": {
    "scrolled": true
   },
   "outputs": [],
   "source": [
    "\n",
    "from flask import Flask, render_template, request\n",
    "import jsonify\n",
    "import requests\n",
    "import pickle\n",
    "import numpy as np\n",
    "import sklearn\n",
    "from sklearn.preprocessing import StandardScaler\n",
    "app = Flask(__name__)\n",
    "model = pickle.load(open('random_forest_regression_model.pkl', 'rb'))\n",
    "@app.route('/',methods=['GET'])\n",
    "def Home():\n",
    "    return render_template('index.html')\n",
    "\n",
    "\n",
    "standard_to = StandardScaler()\n",
    "@app.route(\"/predict\", methods=['POST'])\n",
    "def predict():\n",
    "    if request.method == 'POST':\n",
    "        time_domain_activation = int(request.form['time_domain_activation'])\n",
    "        qty_questionmark_file = int(request.form['qty_questionmark_file'])\n",
    "        qty_slash_file = int(request.form['qty_slash_file'])\n",
    "        qty_questionmark_directory = int(request.form['qty_questionmark_directory'])\n",
    "        qty_hashtag_directory = int(request.form['qty_hashtag_directory'])\n",
    "        qty_dollar_file = int(request.form['qty_dollar_file'])\n",
    "        qty_slash_directory = int(request.form['qty_slash_directory'])\n",
    "        qty_slash_url = int(request.form['qty_slash_url'])\n",
    "        qty_hashtag_file = int(request.form['qty_hashtag_file'])\n",
    "        directory_length = int(request.form['directory_length'])\n",
    "        \n",
    "        prediction=model.predict([[time_domain_activation, qty_questionmark_file,qty_slash_file,qty_questionmark_directory, qty_hashtag_directory,qty_dollar_file, qty_slash_directory, qty_slash_url,qty_hashtag_file, directory_length]])\n",
    "        output=round(prediction)\n",
    "        if output==0:\n",
    "            return render_template('index.html',prediction_texts=\"The website is not a phishing website\")\n",
    "        else:\n",
    "            return render_template('index.html',prediction_text=\"The website is a phishing website\")\n",
    "    else:\n",
    "        return render_template('index.html')\n",
    "\n",
    "if __name__==\"__main__\":\n",
    "    app.run()"
   ]
  },
  {
   "cell_type": "code",
   "execution_count": 2,
   "id": "85c36ff6",
   "metadata": {},
   "outputs": [
    {
     "name": "stdout",
     "output_type": "stream",
     "text": [
      "\n",
      "Windows IP Configuration\n",
      "\n",
      "\n",
      "Wireless LAN adapter Local Area Connection* 3:\n",
      "\n",
      "   Media State . . . . . . . . . . . : Media disconnected\n",
      "   Connection-specific DNS Suffix  . : \n",
      "\n",
      "Wireless LAN adapter Local Area Connection* 12:\n",
      "\n",
      "   Media State . . . . . . . . . . . : Media disconnected\n",
      "   Connection-specific DNS Suffix  . : \n",
      "\n",
      "Ethernet adapter VMware Network Adapter VMnet1:\n",
      "\n",
      "   Connection-specific DNS Suffix  . : \n",
      "   Link-local IPv6 Address . . . . . : fe80::873:4f0a:271:da81%21\n",
      "   IPv4 Address. . . . . . . . . . . : 192.168.40.1\n",
      "   Subnet Mask . . . . . . . . . . . : 255.255.255.0\n",
      "   Default Gateway . . . . . . . . . : \n",
      "\n",
      "Ethernet adapter VMware Network Adapter VMnet8:\n",
      "\n",
      "   Connection-specific DNS Suffix  . : \n",
      "   Link-local IPv6 Address . . . . . : fe80::d4aa:19a9:c7a1:d185%7\n",
      "   IPv4 Address. . . . . . . . . . . : 192.168.80.1\n",
      "   Subnet Mask . . . . . . . . . . . : 255.255.255.0\n",
      "   Default Gateway . . . . . . . . . : \n",
      "\n",
      "Wireless LAN adapter Wi-Fi:\n",
      "\n",
      "   Connection-specific DNS Suffix  . : \n",
      "   Link-local IPv6 Address . . . . . : fe80::2123:908c:585f:e43a%20\n",
      "   IPv4 Address. . . . . . . . . . . : 192.168.31.140\n",
      "   Subnet Mask . . . . . . . . . . . : 255.255.255.0\n",
      "   Default Gateway . . . . . . . . . : 192.168.31.1\n"
     ]
    }
   ],
   "source": [
    "!ipconfig"
   ]
  },
  {
   "cell_type": "code",
   "execution_count": null,
   "id": "d2ae6fa6",
   "metadata": {},
   "outputs": [],
   "source": []
  }
 ],
 "metadata": {
  "kernelspec": {
   "display_name": "Python 3",
   "language": "python",
   "name": "python3"
  },
  "language_info": {
   "codemirror_mode": {
    "name": "ipython",
    "version": 3
   },
   "file_extension": ".py",
   "mimetype": "text/x-python",
   "name": "python",
   "nbconvert_exporter": "python",
   "pygments_lexer": "ipython3",
   "version": "3.7.10"
  }
 },
 "nbformat": 4,
 "nbformat_minor": 5
}
